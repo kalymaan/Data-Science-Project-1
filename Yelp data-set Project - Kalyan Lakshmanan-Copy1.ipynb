{
 "cells": [
  {
   "cell_type": "code",
   "execution_count": 1,
   "metadata": {
    "collapsed": true
   },
   "outputs": [],
   "source": [
    "import pandas as pd\n",
    "import numpy as np\n",
    "import matplotlib as mpl\n",
    "import matplotlib.pyplot as plt"
   ]
  },
  {
   "cell_type": "code",
   "execution_count": 2,
   "metadata": {
    "collapsed": true
   },
   "outputs": [],
   "source": [
    "budata = pd.read_json('yelp_test_set\\yelp_test_set_business.json',lines = True)\n",
    "bdata = budata.copy()\n",
    "\n",
    "del bdata['type']# since bdata['type'].nunique() == 1\n",
    "del bdata['neighborhoods'] # since no useful data\n",
    "#bdata.set_index('business_id', inplace = True)\n"
   ]
  },
  {
   "cell_type": "code",
   "execution_count": 3,
   "metadata": {
    "collapsed": true
   },
   "outputs": [],
   "source": [
    "# trying to mess with categories\n",
    "\n",
    "cat = bdata.categories # this is a series\n",
    "\n",
    "temp = set()\n",
    "f = lambda x : temp.update(x)\n",
    "cat.apply(f)\n",
    "cat_counts = {el:0 for el in temp}\n",
    "\n",
    "all_cat = []\n",
    "k = lambda x: all_cat.extend(x)\n",
    "cat.apply(k)\n",
    "\n",
    "for e in all_cat:\n",
    "    cat_counts[e] += 1\n",
    "\n",
    "all_cat = list(temp) \n",
    "\n",
    "# all_cat is a list of all distinct categories\n",
    "# cat_counts is a dict of category counts\n",
    " # do a pie chart"
   ]
  },
  {
   "cell_type": "code",
   "execution_count": 4,
   "metadata": {
    "collapsed": true
   },
   "outputs": [],
   "source": [
    "# doing some nonsense to unpack the categories to make the data frame more accesible\n",
    "\n",
    "df_dict = {}\n",
    "for category in all_cat:\n",
    "    v_list = []\n",
    "    for row in cat:\n",
    "        t = []\n",
    "        if category in row:\n",
    "            v_list.append(1)\n",
    "        else:\n",
    "            v_list.append(0)\n",
    "    df_dict[category] = v_list\n",
    "lol = pd.DataFrame(df_dict)   # lol has all 508 categories with 1/0 associated with each row of bdata"
   ]
  },
  {
   "cell_type": "code",
   "execution_count": 5,
   "metadata": {
    "collapsed": true
   },
   "outputs": [],
   "source": [
    "con = [bdata, lol]\n",
    "\n",
    "big = pd.concat(con, axis = 1)\n",
    "\n",
    "del big['categories']\n",
    "# big.head()\n",
    "\n"
   ]
  },
  {
   "cell_type": "code",
   "execution_count": 6,
   "metadata": {
    "collapsed": true
   },
   "outputs": [],
   "source": [
    "just_cat = big.copy()\n",
    "\n",
    "del just_cat['city']\n",
    "del just_cat['latitude']\n",
    "del just_cat['longitude']\n",
    "del just_cat['state']\n",
    "del just_cat['stars']\n",
    "del just_cat['business_id']\n",
    "del just_cat['review_count']\n",
    "del just_cat['name']\n",
    "del just_cat['full_address']\n",
    "\n",
    "#just_cat.head()\n",
    "\n",
    "just_cat_open = pd.DataFrame(just_cat[just_cat['open'] == True])\n",
    "del just_cat_open['open']\n",
    "just_cat_closed = pd.DataFrame(just_cat[just_cat['open'] == False])\n",
    "del just_cat_closed['open']\n",
    "\n",
    "#just_cat_open.head()"
   ]
  },
  {
   "cell_type": "code",
   "execution_count": 7,
   "metadata": {
    "collapsed": true
   },
   "outputs": [],
   "source": [
    "open_cat_counts = {}\n",
    "closed_cat_counts = {}\n",
    "for cat in all_cat:\n",
    "    open_cat_counts[cat] = just_cat_open[cat].sum()\n",
    "    closed_cat_counts[cat] = just_cat_closed[cat].sum()\n",
    "\n",
    "o = pd.Series(open_cat_counts)\n",
    "o.sort_values(ascending=False, inplace=True)\n",
    "\n",
    "c = pd.Series(closed_cat_counts)\n",
    "c.sort_values(ascending=False, inplace=True)\n",
    "\n",
    "f = lambda x: (x/11537.0) * 100.0 \n",
    "\n",
    "oP = o.apply(f)\n",
    "cP = c.apply(f)\n"
   ]
  },
  {
   "cell_type": "code",
   "execution_count": 233,
   "metadata": {
    "collapsed": true
   },
   "outputs": [
    {
     "name": "stdout",
     "output_type": "stream",
     "text": [
      "Restaurants                      32.044726\n",
      "Shopping                         13.599723\n",
      "Food                             12.204213\n",
      "Beauty & Spas                     6.492156\n",
      "Automotive                        4.767271\n",
      "Mexican                           4.645922\n",
      "Active Life                       4.264540\n",
      "Nightlife                         4.186530\n",
      "Health & Medical                  4.056514\n",
      "Fashion                           3.917830\n",
      "Event Planning & Services         3.735807\n",
      "Home Services                     3.493109\n",
      "American (Traditional)            3.467106\n",
      "Pizza                             3.363093\n",
      "Bars                              3.363093\n",
      "Hotels & Travel                   3.207073\n",
      "Fast Food                         3.198405\n",
      "Sandwiches                        2.843027\n",
      "Grocery                           2.773685\n",
      "Local Services                    2.695675\n",
      "Hotels                            2.409639\n",
      "Arts & Entertainment              2.383635\n",
      "American (New)                    2.244951\n",
      "Coffee & Tea                      2.192944\n",
      "Chinese                           2.158273\n",
      "Nail Salons                       2.088931\n",
      "Pets                              2.062928\n",
      "Auto Repair                       2.036925\n",
      "Burgers                           1.993586\n",
      "Home & Garden                     1.941579\n",
      "                                   ...    \n",
      "Brazilian                         0.008668\n",
      "Cambodian                         0.008668\n",
      "Botanical Gardens                 0.008668\n",
      "Campgrounds                       0.008668\n",
      "Talent Agencies                   0.008668\n",
      "Opera & Ballet                    0.008668\n",
      "Lebanese                          0.008668\n",
      "Boat Charters                     0.008668\n",
      "Uniforms                          0.008668\n",
      "Plus Size Fashion                 0.008668\n",
      "Party Bus Rentals                 0.008668\n",
      "Basque                            0.008668\n",
      "Personal Chefs                    0.008668\n",
      "Tapas/Small Plates                0.008668\n",
      "Private Investigation             0.008668\n",
      "Tutoring Centers                  0.008668\n",
      "Psychiatrists                     0.008668\n",
      "Tapas Bars                        0.008668\n",
      "Carpet Installation               0.008668\n",
      "Hot Air Balloons                  0.008668\n",
      "Public Relations                  0.008668\n",
      "Hindu Temples                     0.008668\n",
      "Neurologist                       0.008668\n",
      "Champagne Bars                    0.008668\n",
      "Recording & Rehearsal Studios     0.008668\n",
      "Personal Injury Law               0.008668\n",
      "Internet Cafes                    0.000000\n",
      "Aquariums                         0.000000\n",
      "Argentine                         0.000000\n",
      "Burmese                           0.000000\n",
      "Length: 508, dtype: float64\n"
     ]
    }
   ],
   "source": [
    "print oP"
   ]
  },
  {
   "cell_type": "code",
   "execution_count": 234,
   "metadata": {
    "collapsed": true
   },
   "outputs": [
    {
     "name": "stdout",
     "output_type": "stream",
     "text": [
      "Restaurants                         6.986218\n",
      "Food                                1.802895\n",
      "Nightlife                           1.360839\n",
      "Bars                                1.118142\n",
      "Shopping                            0.970790\n",
      "Mexican                             0.814770\n",
      "American (New)                      0.710757\n",
      "American (Traditional)              0.693421\n",
      "Pizza                               0.598076\n",
      "Coffee & Tea                        0.598076\n",
      "Italian                             0.511398\n",
      "Sandwiches                          0.468059\n",
      "Ice Cream & Frozen Yogurt           0.398717\n",
      "Chinese                             0.346711\n",
      "Buffets                             0.338043\n",
      "Active Life                         0.286036\n",
      "Lounges                             0.268701\n",
      "Burgers                             0.260033\n",
      "Barbeque                            0.251365\n",
      "Arts & Entertainment                0.251365\n",
      "Books, Mags, Music & Video          0.251365\n",
      "Fashion                             0.242697\n",
      "Delis                               0.242697\n",
      "Breakfast & Brunch                  0.208026\n",
      "Bakeries                            0.199359\n",
      "Event Planning & Services           0.190691\n",
      "Sports Bars                         0.190691\n",
      "Japanese                            0.190691\n",
      "Dance Clubs                         0.173355\n",
      "Sushi Bars                          0.156020\n",
      "                                      ...   \n",
      "Makeup Artists                      0.000000\n",
      "Marketing                           0.000000\n",
      "Martial Arts                        0.000000\n",
      "Massage Schools                     0.000000\n",
      "Massage Therapy                     0.000000\n",
      "Matchmakers                         0.000000\n",
      "Maternity Wear                      0.000000\n",
      "Laser Hair Removal                  0.000000\n",
      "Laotian                             0.000000\n",
      "Hot Tub & Pool                      0.000000\n",
      "Junk Removal & Hauling              0.000000\n",
      "Solar Installation                  0.000000\n",
      "Social Clubs                        0.000000\n",
      "Soccer                              0.000000\n",
      "Insurance                           0.000000\n",
      "Internal Medicine                   0.000000\n",
      "Investing                           0.000000\n",
      "Smog Check Stations                 0.000000\n",
      "Skydiving                           0.000000\n",
      "Keys & Locksmiths                   0.000000\n",
      "Landscaping                         0.000000\n",
      "Kids Activities                     0.000000\n",
      "Knitting Supplies                   0.000000\n",
      "Skating Rinks                       0.000000\n",
      "Kosher                              0.000000\n",
      "Laboratory Testing                  0.000000\n",
      "Lakes                               0.000000\n",
      "Landmarks & Historical Buildings    0.000000\n",
      "Landscape Architects                0.000000\n",
      "Zoos                                0.000000\n",
      "Length: 508, dtype: float64\n"
     ]
    }
   ],
   "source": [
    "print cP"
   ]
  },
  {
   "cell_type": "code",
   "execution_count": 8,
   "metadata": {},
   "outputs": [
    {
     "name": "stdout",
     "output_type": "stream",
     "text": [
      "<class 'pandas.core.frame.DataFrame'>\n",
      "RangeIndex: 1205 entries, 0 to 1204\n",
      "Columns: 371 entries, open to Yoga\n",
      "dtypes: bool(1), int64(370)\n",
      "memory usage: 3.4 MB\n"
     ]
    }
   ],
   "source": [
    "just_cat.info()"
   ]
  },
  {
   "cell_type": "code",
   "execution_count": 8,
   "metadata": {
    "collapsed": true
   },
   "outputs": [],
   "source": [
    "# looking at stars and ratings\n",
    "\n",
    "bd = big.copy()\n",
    "\n",
    "del bd['city']\n",
    "del bd['latitude']\n",
    "del bd['longitude']\n",
    "del bd['state']\n",
    "del bd['full_address']\n",
    "del bd['name']\n",
    "del bd['business_id']\n",
    "#bd.sort_values('review_count', axis=0, ascending=False, inplace=True, kind='quicksort', na_position='last')\n",
    "\n",
    "\n",
    "\n",
    "b = bd[bd['open'] == True]\n",
    "c = bd[bd['open'] == False]\n",
    "\n",
    "# b['stars'].nunique() = 9 ; 1, 1.5, 2, 2.5, 3, 3.5, 4, 4.5, 5\n",
    "\n",
    "list_rat = [1,1.5,2,2.5,3,3.5,4,4.5,5]\n",
    "brat_counts = []\n",
    "crat_counts = []\n",
    "\n",
    "for rating in list_rat:\n",
    "    brat_counts.append(b[b['stars'] == rating].shape[0]) # get the number of rows per rating\n",
    "    \n",
    "for rating in list_rat:\n",
    "    crat_counts.append(c[c['stars'] == rating].shape[0]) # get the number of rows per rating"
   ]
  },
  {
   "cell_type": "code",
   "execution_count": 9,
   "metadata": {},
   "outputs": [
    {
     "data": {
      "image/png": "[encoded data removed]",
      "text/plain": [
       "<matplotlib.figure.Figure at 0xd3e5198>"
      ]
     },
     "metadata": {},
     "output_type": "display_data"
    }
   ],
   "source": [
    "plt.figure()\n",
    "plt.bar(list_rat,brat_counts)\n",
    "plt.show()"
   ]
  },
  {
   "cell_type": "code",
   "execution_count": 10,
   "metadata": {},
   "outputs": [
    {
     "data": {
      "image/png": "[encoded data removed]",
      "text/plain": [
       "<matplotlib.figure.Figure at 0xdc7d518>"
      ]
     },
     "metadata": {},
     "output_type": "display_data"
    }
   ],
   "source": [
    "plt.figure()\n",
    "plt.bar(list_rat,crat_counts)\n",
    "plt.show()\n"
   ]
  },
  {
   "cell_type": "code",
   "execution_count": 285,
   "metadata": {},
   "outputs": [
    {
     "name": "stdout",
     "output_type": "stream",
     "text": [
      "[0, 1, 0, 1, 2, 9, 4, 5, 3]\n"
     ]
    }
   ],
   "source": [
    "print crat_counts"
   ]
  },
  {
   "cell_type": "code",
   "execution_count": null,
   "metadata": {
    "collapsed": true
   },
   "outputs": [],
   "source": []
  },
  {
   "cell_type": "code",
   "execution_count": null,
   "metadata": {
    "collapsed": true
   },
   "outputs": [],
   "source": []
  },
  {
   "cell_type": "code",
   "execution_count": 244,
   "metadata": {},
   "outputs": [
    {
     "data": {
      "text/html": [
       "<div>\n",
       "<style>\n",
       "    .dataframe thead tr:only-child th {\n",
       "        text-align: right;\n",
       "    }\n",
       "\n",
       "    .dataframe thead th {\n",
       "        text-align: left;\n",
       "    }\n",
       "\n",
       "    .dataframe tbody tr th {\n",
       "        vertical-align: top;\n",
       "    }\n",
       "</style>\n",
       "<table border=\"1\" class=\"dataframe\">\n",
       "  <thead>\n",
       "    <tr style=\"text-align: right;\">\n",
       "      <th></th>\n",
       "      <th>business_id</th>\n",
       "      <th>categories</th>\n",
       "      <th>city</th>\n",
       "      <th>full_address</th>\n",
       "      <th>latitude</th>\n",
       "      <th>longitude</th>\n",
       "      <th>name</th>\n",
       "      <th>open</th>\n",
       "      <th>review_count</th>\n",
       "      <th>stars</th>\n",
       "      <th>state</th>\n",
       "    </tr>\n",
       "  </thead>\n",
       "  <tbody>\n",
       "    <tr>\n",
       "      <th>9533</th>\n",
       "      <td>hW0Ne_HTHEAgGF1rAdmR-g</td>\n",
       "      <td>[Hotels &amp; Travel, Airports]</td>\n",
       "      <td>Phoenix</td>\n",
       "      <td>3400 E Sky Harbor Blvd\\nPhoenix, AZ 85034</td>\n",
       "      <td>33.434750</td>\n",
       "      <td>-112.006440</td>\n",
       "      <td>Phoenix Sky Harbor International Airport</td>\n",
       "      <td>True</td>\n",
       "      <td>862</td>\n",
       "      <td>3.0</td>\n",
       "      <td>AZ</td>\n",
       "    </tr>\n",
       "    <tr>\n",
       "      <th>5498</th>\n",
       "      <td>VVeogjZya58oiTxK7qUjAQ</td>\n",
       "      <td>[Pizza, Restaurants]</td>\n",
       "      <td>Phoenix</td>\n",
       "      <td>623 E Adams St\\nPhoenix, AZ 85004</td>\n",
       "      <td>33.449233</td>\n",
       "      <td>-112.065458</td>\n",
       "      <td>Pizzeria Bianco</td>\n",
       "      <td>True</td>\n",
       "      <td>803</td>\n",
       "      <td>4.0</td>\n",
       "      <td>AZ</td>\n",
       "    </tr>\n",
       "    <tr>\n",
       "      <th>3428</th>\n",
       "      <td>JokKtdXU7zXHcr20Lrk29A</td>\n",
       "      <td>[Bars, Food, Breweries, Pubs, Nightlife, Ameri...</td>\n",
       "      <td>Tempe</td>\n",
       "      <td>1340 E 8th St\\nSte 104\\nTempe, AZ 85281</td>\n",
       "      <td>33.419451</td>\n",
       "      <td>-111.915926</td>\n",
       "      <td>Four Peaks Brewing Co</td>\n",
       "      <td>True</td>\n",
       "      <td>735</td>\n",
       "      <td>4.5</td>\n",
       "      <td>AZ</td>\n",
       "    </tr>\n",
       "    <tr>\n",
       "      <th>6422</th>\n",
       "      <td>ntN85eu27C04nwyPa8IHtw</td>\n",
       "      <td>[Breakfast &amp; Brunch, Restaurants]</td>\n",
       "      <td>Phoenix</td>\n",
       "      <td>801 N 1st St\\nPhoenix, AZ 85004</td>\n",
       "      <td>33.456696</td>\n",
       "      <td>-112.072327</td>\n",
       "      <td>Matt's Big Breakfast</td>\n",
       "      <td>True</td>\n",
       "      <td>689</td>\n",
       "      <td>4.0</td>\n",
       "      <td>AZ</td>\n",
       "    </tr>\n",
       "    <tr>\n",
       "      <th>8283</th>\n",
       "      <td>EWMwV5V9BxNs_U6nNVMeqw</td>\n",
       "      <td>[Bars, Mediterranean, Nightlife, Lounges, Amer...</td>\n",
       "      <td>Phoenix</td>\n",
       "      <td>3815 N Central Ave\\nPhoenix, AZ 85012</td>\n",
       "      <td>33.491645</td>\n",
       "      <td>-112.073196</td>\n",
       "      <td>FEZ</td>\n",
       "      <td>True</td>\n",
       "      <td>652</td>\n",
       "      <td>4.0</td>\n",
       "      <td>AZ</td>\n",
       "    </tr>\n",
       "  </tbody>\n",
       "</table>\n",
       "</div>"
      ],
      "text/plain": [
       "                 business_id  \\\n",
       "9533  hW0Ne_HTHEAgGF1rAdmR-g   \n",
       "5498  VVeogjZya58oiTxK7qUjAQ   \n",
       "3428  JokKtdXU7zXHcr20Lrk29A   \n",
       "6422  ntN85eu27C04nwyPa8IHtw   \n",
       "8283  EWMwV5V9BxNs_U6nNVMeqw   \n",
       "\n",
       "                                             categories     city  \\\n",
       "9533                        [Hotels & Travel, Airports]  Phoenix   \n",
       "5498                               [Pizza, Restaurants]  Phoenix   \n",
       "3428  [Bars, Food, Breweries, Pubs, Nightlife, Ameri...    Tempe   \n",
       "6422                  [Breakfast & Brunch, Restaurants]  Phoenix   \n",
       "8283  [Bars, Mediterranean, Nightlife, Lounges, Amer...  Phoenix   \n",
       "\n",
       "                                   full_address   latitude   longitude  \\\n",
       "9533  3400 E Sky Harbor Blvd\\nPhoenix, AZ 85034  33.434750 -112.006440   \n",
       "5498          623 E Adams St\\nPhoenix, AZ 85004  33.449233 -112.065458   \n",
       "3428    1340 E 8th St\\nSte 104\\nTempe, AZ 85281  33.419451 -111.915926   \n",
       "6422            801 N 1st St\\nPhoenix, AZ 85004  33.456696 -112.072327   \n",
       "8283      3815 N Central Ave\\nPhoenix, AZ 85012  33.491645 -112.073196   \n",
       "\n",
       "                                          name  open  review_count  stars  \\\n",
       "9533  Phoenix Sky Harbor International Airport  True           862    3.0   \n",
       "5498                           Pizzeria Bianco  True           803    4.0   \n",
       "3428                     Four Peaks Brewing Co  True           735    4.5   \n",
       "6422                      Matt's Big Breakfast  True           689    4.0   \n",
       "8283                                       FEZ  True           652    4.0   \n",
       "\n",
       "     state  \n",
       "9533    AZ  \n",
       "5498    AZ  \n",
       "3428    AZ  \n",
       "6422    AZ  \n",
       "8283    AZ  "
      ]
     },
     "execution_count": 244,
     "metadata": {},
     "output_type": "execute_result"
    }
   ],
   "source": [
    "bdata.sort_values('review_count', axis=0, ascending=False, inplace=True, kind='quicksort', na_position='last')\n",
    "bdata.head()\n"
   ]
  },
  {
   "cell_type": "code",
   "execution_count": 115,
   "metadata": {},
   "outputs": [
    {
     "ename": "AttributeError",
     "evalue": "'dict' object has no attribute 'extend'",
     "output_type": "error",
     "traceback": [
      "\u001b[1;31m\u001b[0m",
      "\u001b[1;31mAttributeError\u001b[0mTraceback (most recent call last)",
      "\u001b[1;32m<ipython-input-115-7b9b2ea3bc9c>\u001b[0m in \u001b[0;36m<module>\u001b[1;34m()\u001b[0m\n\u001b[0;32m      7\u001b[0m \u001b[0mtemp\u001b[0m \u001b[1;33m=\u001b[0m \u001b[1;33m{\u001b[0m\u001b[1;33m}\u001b[0m\u001b[1;33m\u001b[0m\u001b[0m\n\u001b[0;32m      8\u001b[0m \u001b[0mf\u001b[0m \u001b[1;33m=\u001b[0m \u001b[1;32mlambda\u001b[0m \u001b[0mx\u001b[0m \u001b[1;33m:\u001b[0m \u001b[0mtemp\u001b[0m\u001b[1;33m.\u001b[0m\u001b[0mextend\u001b[0m\u001b[1;33m(\u001b[0m\u001b[0mx\u001b[0m\u001b[1;33m)\u001b[0m\u001b[1;33m\u001b[0m\u001b[0m\n\u001b[1;32m----> 9\u001b[1;33m \u001b[0mcat\u001b[0m\u001b[1;33m.\u001b[0m\u001b[0mapply\u001b[0m\u001b[1;33m(\u001b[0m\u001b[0mf\u001b[0m\u001b[1;33m)\u001b[0m\u001b[1;33m\u001b[0m\u001b[0m\n\u001b[0m\u001b[0;32m     10\u001b[0m \u001b[1;33m\u001b[0m\u001b[0m\n\u001b[0;32m     11\u001b[0m \u001b[1;31m#s = pd.Series(temp, dtype=\"category\")\u001b[0m\u001b[1;33m\u001b[0m\u001b[1;33m\u001b[0m\u001b[0m\n",
      "\u001b[1;32mC:\\Users\\Admin\\Anaconda2\\lib\\site-packages\\pandas\\core\\series.pyc\u001b[0m in \u001b[0;36mapply\u001b[1;34m(self, func, convert_dtype, args, **kwds)\u001b[0m\n\u001b[0;32m   2353\u001b[0m             \u001b[1;32melse\u001b[0m\u001b[1;33m:\u001b[0m\u001b[1;33m\u001b[0m\u001b[0m\n\u001b[0;32m   2354\u001b[0m                 \u001b[0mvalues\u001b[0m \u001b[1;33m=\u001b[0m \u001b[0mself\u001b[0m\u001b[1;33m.\u001b[0m\u001b[0masobject\u001b[0m\u001b[1;33m\u001b[0m\u001b[0m\n\u001b[1;32m-> 2355\u001b[1;33m                 \u001b[0mmapped\u001b[0m \u001b[1;33m=\u001b[0m \u001b[0mlib\u001b[0m\u001b[1;33m.\u001b[0m\u001b[0mmap_infer\u001b[0m\u001b[1;33m(\u001b[0m\u001b[0mvalues\u001b[0m\u001b[1;33m,\u001b[0m \u001b[0mf\u001b[0m\u001b[1;33m,\u001b[0m \u001b[0mconvert\u001b[0m\u001b[1;33m=\u001b[0m\u001b[0mconvert_dtype\u001b[0m\u001b[1;33m)\u001b[0m\u001b[1;33m\u001b[0m\u001b[0m\n\u001b[0m\u001b[0;32m   2356\u001b[0m \u001b[1;33m\u001b[0m\u001b[0m\n\u001b[0;32m   2357\u001b[0m         \u001b[1;32mif\u001b[0m \u001b[0mlen\u001b[0m\u001b[1;33m(\u001b[0m\u001b[0mmapped\u001b[0m\u001b[1;33m)\u001b[0m \u001b[1;32mand\u001b[0m \u001b[0misinstance\u001b[0m\u001b[1;33m(\u001b[0m\u001b[0mmapped\u001b[0m\u001b[1;33m[\u001b[0m\u001b[1;36m0\u001b[0m\u001b[1;33m]\u001b[0m\u001b[1;33m,\u001b[0m \u001b[0mSeries\u001b[0m\u001b[1;33m)\u001b[0m\u001b[1;33m:\u001b[0m\u001b[1;33m\u001b[0m\u001b[0m\n",
      "\u001b[1;32mpandas/_libs/src\\inference.pyx\u001b[0m in \u001b[0;36mpandas._libs.lib.map_infer\u001b[1;34m()\u001b[0m\n",
      "\u001b[1;32m<ipython-input-115-7b9b2ea3bc9c>\u001b[0m in \u001b[0;36m<lambda>\u001b[1;34m(x)\u001b[0m\n\u001b[0;32m      6\u001b[0m \u001b[1;33m\u001b[0m\u001b[0m\n\u001b[0;32m      7\u001b[0m \u001b[0mtemp\u001b[0m \u001b[1;33m=\u001b[0m \u001b[1;33m{\u001b[0m\u001b[1;33m}\u001b[0m\u001b[1;33m\u001b[0m\u001b[0m\n\u001b[1;32m----> 8\u001b[1;33m \u001b[0mf\u001b[0m \u001b[1;33m=\u001b[0m \u001b[1;32mlambda\u001b[0m \u001b[0mx\u001b[0m \u001b[1;33m:\u001b[0m \u001b[0mtemp\u001b[0m\u001b[1;33m.\u001b[0m\u001b[0mextend\u001b[0m\u001b[1;33m(\u001b[0m\u001b[0mx\u001b[0m\u001b[1;33m)\u001b[0m\u001b[1;33m\u001b[0m\u001b[0m\n\u001b[0m\u001b[0;32m      9\u001b[0m \u001b[0mcat\u001b[0m\u001b[1;33m.\u001b[0m\u001b[0mapply\u001b[0m\u001b[1;33m(\u001b[0m\u001b[0mf\u001b[0m\u001b[1;33m)\u001b[0m\u001b[1;33m\u001b[0m\u001b[0m\n\u001b[0;32m     10\u001b[0m \u001b[1;33m\u001b[0m\u001b[0m\n",
      "\u001b[1;31mAttributeError\u001b[0m: 'dict' object has no attribute 'extend'"
     ]
    }
   ],
   "source": [
    "#s = pd.Series(temp, dtype=\"category\")\n",
    "\n",
    "#s.nunique() # shows 508 distinct categories\n",
    "\n",
    "#pd.get_dummies(cat)"
   ]
  },
  {
   "cell_type": "code",
   "execution_count": 72,
   "metadata": {},
   "outputs": [
    {
     "data": {
      "text/html": [
       "<div>\n",
       "<style>\n",
       "    .dataframe thead tr:only-child th {\n",
       "        text-align: right;\n",
       "    }\n",
       "\n",
       "    .dataframe thead th {\n",
       "        text-align: left;\n",
       "    }\n",
       "\n",
       "    .dataframe tbody tr th {\n",
       "        vertical-align: top;\n",
       "    }\n",
       "</style>\n",
       "<table border=\"1\" class=\"dataframe\">\n",
       "  <thead>\n",
       "    <tr style=\"text-align: right;\">\n",
       "      <th></th>\n",
       "      <th>business_id</th>\n",
       "      <th>date</th>\n",
       "      <th>review_id</th>\n",
       "      <th>stars</th>\n",
       "      <th>text</th>\n",
       "      <th>type</th>\n",
       "      <th>user_id</th>\n",
       "      <th>votes</th>\n",
       "    </tr>\n",
       "  </thead>\n",
       "  <tbody>\n",
       "    <tr>\n",
       "      <th>0</th>\n",
       "      <td>9yKzy9PApeiPPOUJEtnvkg</td>\n",
       "      <td>2011-01-26</td>\n",
       "      <td>fWKvX83p0-ka4JS3dc6E5A</td>\n",
       "      <td>5</td>\n",
       "      <td>My wife took me here on my birthday for breakf...</td>\n",
       "      <td>review</td>\n",
       "      <td>rLtl8ZkDX5vH5nAx9C3q5Q</td>\n",
       "      <td>{u'funny': 0, u'useful': 5, u'cool': 2}</td>\n",
       "    </tr>\n",
       "    <tr>\n",
       "      <th>1</th>\n",
       "      <td>ZRJwVLyzEJq1VAihDhYiow</td>\n",
       "      <td>2011-07-27</td>\n",
       "      <td>IjZ33sJrzXqU-0X6U8NwyA</td>\n",
       "      <td>5</td>\n",
       "      <td>I have no idea why some people give bad review...</td>\n",
       "      <td>review</td>\n",
       "      <td>0a2KyEL0d3Yb1V6aivbIuQ</td>\n",
       "      <td>{u'funny': 0, u'useful': 0, u'cool': 0}</td>\n",
       "    </tr>\n",
       "    <tr>\n",
       "      <th>2</th>\n",
       "      <td>6oRAC4uyJCsJl1X0WZpVSA</td>\n",
       "      <td>2012-06-14</td>\n",
       "      <td>IESLBzqUCLdSzSqm0eCSxQ</td>\n",
       "      <td>4</td>\n",
       "      <td>love the gyro plate. Rice is so good and I als...</td>\n",
       "      <td>review</td>\n",
       "      <td>0hT2KtfLiobPvh6cDC8JQg</td>\n",
       "      <td>{u'funny': 0, u'useful': 1, u'cool': 0}</td>\n",
       "    </tr>\n",
       "    <tr>\n",
       "      <th>3</th>\n",
       "      <td>_1QQZuf4zZOyFCvXc0o6Vg</td>\n",
       "      <td>2010-05-27</td>\n",
       "      <td>G-WvGaISbqqaMHlNnByodA</td>\n",
       "      <td>5</td>\n",
       "      <td>Rosie, Dakota, and I LOVE Chaparral Dog Park!!...</td>\n",
       "      <td>review</td>\n",
       "      <td>uZetl9T0NcROGOyFfughhg</td>\n",
       "      <td>{u'funny': 0, u'useful': 2, u'cool': 1}</td>\n",
       "    </tr>\n",
       "    <tr>\n",
       "      <th>4</th>\n",
       "      <td>6ozycU1RpktNG2-1BroVtw</td>\n",
       "      <td>2012-01-05</td>\n",
       "      <td>1uJFq2r5QfJG_6ExMRCaGw</td>\n",
       "      <td>5</td>\n",
       "      <td>General Manager Scott Petello is a good egg!!!...</td>\n",
       "      <td>review</td>\n",
       "      <td>vYmM4KTsC8ZfQBg-j5MWkw</td>\n",
       "      <td>{u'funny': 0, u'useful': 0, u'cool': 0}</td>\n",
       "    </tr>\n",
       "  </tbody>\n",
       "</table>\n",
       "</div>"
      ],
      "text/plain": [
       "              business_id       date               review_id  stars  \\\n",
       "0  9yKzy9PApeiPPOUJEtnvkg 2011-01-26  fWKvX83p0-ka4JS3dc6E5A      5   \n",
       "1  ZRJwVLyzEJq1VAihDhYiow 2011-07-27  IjZ33sJrzXqU-0X6U8NwyA      5   \n",
       "2  6oRAC4uyJCsJl1X0WZpVSA 2012-06-14  IESLBzqUCLdSzSqm0eCSxQ      4   \n",
       "3  _1QQZuf4zZOyFCvXc0o6Vg 2010-05-27  G-WvGaISbqqaMHlNnByodA      5   \n",
       "4  6ozycU1RpktNG2-1BroVtw 2012-01-05  1uJFq2r5QfJG_6ExMRCaGw      5   \n",
       "\n",
       "                                                text    type  \\\n",
       "0  My wife took me here on my birthday for breakf...  review   \n",
       "1  I have no idea why some people give bad review...  review   \n",
       "2  love the gyro plate. Rice is so good and I als...  review   \n",
       "3  Rosie, Dakota, and I LOVE Chaparral Dog Park!!...  review   \n",
       "4  General Manager Scott Petello is a good egg!!!...  review   \n",
       "\n",
       "                  user_id                                    votes  \n",
       "0  rLtl8ZkDX5vH5nAx9C3q5Q  {u'funny': 0, u'useful': 5, u'cool': 2}  \n",
       "1  0a2KyEL0d3Yb1V6aivbIuQ  {u'funny': 0, u'useful': 0, u'cool': 0}  \n",
       "2  0hT2KtfLiobPvh6cDC8JQg  {u'funny': 0, u'useful': 1, u'cool': 0}  \n",
       "3  uZetl9T0NcROGOyFfughhg  {u'funny': 0, u'useful': 2, u'cool': 1}  \n",
       "4  vYmM4KTsC8ZfQBg-j5MWkw  {u'funny': 0, u'useful': 0, u'cool': 0}  "
      ]
     },
     "execution_count": 72,
     "metadata": {},
     "output_type": "execute_result"
    }
   ],
   "source": [
    "redata = pd.read_json('yelp_training_set\\yelp_training_set_review.json',lines = True)\n",
    "rdata = redata.copy()\n",
    "\n",
    "rdata.head()"
   ]
  },
  {
   "cell_type": "code",
   "execution_count": 79,
   "metadata": {},
   "outputs": [
    {
     "data": {
      "text/html": [
       "<div>\n",
       "<style>\n",
       "    .dataframe thead tr:only-child th {\n",
       "        text-align: right;\n",
       "    }\n",
       "\n",
       "    .dataframe thead th {\n",
       "        text-align: left;\n",
       "    }\n",
       "\n",
       "    .dataframe tbody tr th {\n",
       "        vertical-align: top;\n",
       "    }\n",
       "</style>\n",
       "<table border=\"1\" class=\"dataframe\">\n",
       "  <thead>\n",
       "    <tr style=\"text-align: right;\">\n",
       "      <th></th>\n",
       "      <th>average_stars</th>\n",
       "      <th>name</th>\n",
       "      <th>review_count</th>\n",
       "      <th>type</th>\n",
       "      <th>votes</th>\n",
       "    </tr>\n",
       "    <tr>\n",
       "      <th>user_id</th>\n",
       "      <th></th>\n",
       "      <th></th>\n",
       "      <th></th>\n",
       "      <th></th>\n",
       "      <th></th>\n",
       "    </tr>\n",
       "  </thead>\n",
       "  <tbody>\n",
       "    <tr>\n",
       "      <th>CR2y7yEm4X035ZMzrTtN9Q</th>\n",
       "      <td>5.0</td>\n",
       "      <td>Jim</td>\n",
       "      <td>6</td>\n",
       "      <td>user</td>\n",
       "      <td>{u'funny': 0, u'useful': 7, u'cool': 0}</td>\n",
       "    </tr>\n",
       "    <tr>\n",
       "      <th>_9GXoHhdxc30ujPaQwh6Ew</th>\n",
       "      <td>1.0</td>\n",
       "      <td>Kelle</td>\n",
       "      <td>2</td>\n",
       "      <td>user</td>\n",
       "      <td>{u'funny': 0, u'useful': 1, u'cool': 0}</td>\n",
       "    </tr>\n",
       "    <tr>\n",
       "      <th>8mM-nqxjg6pT04kwcjMbsw</th>\n",
       "      <td>5.0</td>\n",
       "      <td>Stephanie</td>\n",
       "      <td>2</td>\n",
       "      <td>user</td>\n",
       "      <td>{u'funny': 0, u'useful': 1, u'cool': 0}</td>\n",
       "    </tr>\n",
       "    <tr>\n",
       "      <th>Ch6CdTR2IVaVANr-RglMOg</th>\n",
       "      <td>5.0</td>\n",
       "      <td>T</td>\n",
       "      <td>2</td>\n",
       "      <td>user</td>\n",
       "      <td>{u'funny': 0, u'useful': 2, u'cool': 0}</td>\n",
       "    </tr>\n",
       "    <tr>\n",
       "      <th>NZrLmHRyiHmyT1JrfzkCOA</th>\n",
       "      <td>1.0</td>\n",
       "      <td>Beth</td>\n",
       "      <td>1</td>\n",
       "      <td>user</td>\n",
       "      <td>{u'funny': 0, u'useful': 0, u'cool': 0}</td>\n",
       "    </tr>\n",
       "  </tbody>\n",
       "</table>\n",
       "</div>"
      ],
      "text/plain": [
       "                        average_stars       name  review_count  type  \\\n",
       "user_id                                                                \n",
       "CR2y7yEm4X035ZMzrTtN9Q            5.0        Jim             6  user   \n",
       "_9GXoHhdxc30ujPaQwh6Ew            1.0      Kelle             2  user   \n",
       "8mM-nqxjg6pT04kwcjMbsw            5.0  Stephanie             2  user   \n",
       "Ch6CdTR2IVaVANr-RglMOg            5.0          T             2  user   \n",
       "NZrLmHRyiHmyT1JrfzkCOA            1.0       Beth             1  user   \n",
       "\n",
       "                                                          votes  \n",
       "user_id                                                          \n",
       "CR2y7yEm4X035ZMzrTtN9Q  {u'funny': 0, u'useful': 7, u'cool': 0}  \n",
       "_9GXoHhdxc30ujPaQwh6Ew  {u'funny': 0, u'useful': 1, u'cool': 0}  \n",
       "8mM-nqxjg6pT04kwcjMbsw  {u'funny': 0, u'useful': 1, u'cool': 0}  \n",
       "Ch6CdTR2IVaVANr-RglMOg  {u'funny': 0, u'useful': 2, u'cool': 0}  \n",
       "NZrLmHRyiHmyT1JrfzkCOA  {u'funny': 0, u'useful': 0, u'cool': 0}  "
      ]
     },
     "execution_count": 79,
     "metadata": {},
     "output_type": "execute_result"
    }
   ],
   "source": [
    "usdata = pd.read_json('yelp_training_set\\yelp_training_set_user.json',lines = True)\n",
    "udata = usdata.copy()\n",
    "\n",
    "udata.set_index('user_id', inplace = True)\n",
    "\n",
    "udata.head()"
   ]
  },
  {
   "cell_type": "code",
   "execution_count": 78,
   "metadata": {
    "collapsed": true
   },
   "outputs": [
    {
     "data": {
      "text/html": [
       "<div>\n",
       "<style>\n",
       "    .dataframe thead tr:only-child th {\n",
       "        text-align: right;\n",
       "    }\n",
       "\n",
       "    .dataframe thead th {\n",
       "        text-align: left;\n",
       "    }\n",
       "\n",
       "    .dataframe tbody tr th {\n",
       "        vertical-align: top;\n",
       "    }\n",
       "</style>\n",
       "<table border=\"1\" class=\"dataframe\">\n",
       "  <thead>\n",
       "    <tr style=\"text-align: right;\">\n",
       "      <th></th>\n",
       "      <th>checkin_info</th>\n",
       "    </tr>\n",
       "    <tr>\n",
       "      <th>business_id</th>\n",
       "      <th></th>\n",
       "    </tr>\n",
       "  </thead>\n",
       "  <tbody>\n",
       "    <tr>\n",
       "      <th>KO9CpaSPOoqm0iCWm5scmg</th>\n",
       "      <td>{u'11-3': 17, u'10-1': 4, u'15-0': 2, u'15-3':...</td>\n",
       "    </tr>\n",
       "    <tr>\n",
       "      <th>oRqBAYtcBYZHXA7G8FlPaA</th>\n",
       "      <td>{u'0-5': 1, u'2-6': 2, u'2-5': 3, u'3-6': 1, u...</td>\n",
       "    </tr>\n",
       "    <tr>\n",
       "      <th>6cy2C9aBXUwkrh4bY1DApw</th>\n",
       "      <td>{u'8-5': 1, u'20-6': 1, u'15-3': 1, u'18-5': 1...</td>\n",
       "    </tr>\n",
       "    <tr>\n",
       "      <th>D0IB17N66FiyYDCzTlAI4A</th>\n",
       "      <td>{u'17-1': 1, u'10-5': 2, u'15-1': 1, u'20-0': ...</td>\n",
       "    </tr>\n",
       "    <tr>\n",
       "      <th>HLQGo3EaYVvAv22bONGkIw</th>\n",
       "      <td>{u'16-2': 1, u'14-5': 1, u'12-5': 2, u'15-4': ...</td>\n",
       "    </tr>\n",
       "  </tbody>\n",
       "</table>\n",
       "</div>"
      ],
      "text/plain": [
       "                                                             checkin_info\n",
       "business_id                                                              \n",
       "KO9CpaSPOoqm0iCWm5scmg  {u'11-3': 17, u'10-1': 4, u'15-0': 2, u'15-3':...\n",
       "oRqBAYtcBYZHXA7G8FlPaA  {u'0-5': 1, u'2-6': 2, u'2-5': 3, u'3-6': 1, u...\n",
       "6cy2C9aBXUwkrh4bY1DApw  {u'8-5': 1, u'20-6': 1, u'15-3': 1, u'18-5': 1...\n",
       "D0IB17N66FiyYDCzTlAI4A  {u'17-1': 1, u'10-5': 2, u'15-1': 1, u'20-0': ...\n",
       "HLQGo3EaYVvAv22bONGkIw  {u'16-2': 1, u'14-5': 1, u'12-5': 2, u'15-4': ..."
      ]
     },
     "execution_count": 78,
     "metadata": {},
     "output_type": "execute_result"
    }
   ],
   "source": [
    "chdata = pd.read_json('yelp_training_set\\yelp_training_set_checkin.json',lines = True)\n",
    "cdata = chdata.copy()\n",
    "\n",
    "cdata.set_index('business_id', inplace = True)\n",
    "del cdata['type'] # since cdata['type'].nunique() == 1\n",
    "\n",
    "cdata.head()"
   ]
  }
 ],
 "metadata": {
  "kernelspec": {
   "display_name": "Python 2",
   "language": "python",
   "name": "python2"
  },
  "language_info": {
   "codemirror_mode": {
    "name": "ipython",
    "version": 2
   },
   "file_extension": ".py",
   "mimetype": "text/x-python",
   "name": "python",
   "nbconvert_exporter": "python",
   "pygments_lexer": "ipython2",
   "version": "2.7.14"
  }
 },
 "nbformat": 4,
 "nbformat_minor": 2
}
